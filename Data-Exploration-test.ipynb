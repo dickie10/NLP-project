{
 "cells": [
  {
   "cell_type": "code",
   "execution_count": 27,
   "id": "99adb130",
   "metadata": {},
   "outputs": [],
   "source": [
    "import pandas as pd\n",
    "import matplotlib.pyplot as plt\n",
    "import numpy as np\n",
    "import re\n",
    "from collections import Counter\n",
    "from sklearn.feature_extraction.text import CountVectorizer"
   ]
  },
  {
   "cell_type": "code",
   "execution_count": 28,
   "id": "7c7d79ee",
   "metadata": {},
   "outputs": [
    {
     "data": {
      "text/plain": [
       "[[[108548, None, None, None]]]"
      ]
     },
     "execution_count": 28,
     "metadata": {},
     "output_type": "execute_result"
    }
   ],
   "source": [
    "df = pd.read_json(\"shared_task_dev.jsonl\", lines=True)\n",
    "df.evidence[0]"
   ]
  },
  {
   "cell_type": "code",
   "execution_count": 50,
   "id": "91259196",
   "metadata": {},
   "outputs": [
    {
     "data": {
      "text/html": [
       "<div>\n",
       "<style scoped>\n",
       "    .dataframe tbody tr th:only-of-type {\n",
       "        vertical-align: middle;\n",
       "    }\n",
       "\n",
       "    .dataframe tbody tr th {\n",
       "        vertical-align: top;\n",
       "    }\n",
       "\n",
       "    .dataframe thead th {\n",
       "        text-align: right;\n",
       "    }\n",
       "</style>\n",
       "<table border=\"1\" class=\"dataframe\">\n",
       "  <thead>\n",
       "    <tr style=\"text-align: right;\">\n",
       "      <th></th>\n",
       "      <th>id</th>\n",
       "      <th>verifiable</th>\n",
       "      <th>label</th>\n",
       "      <th>claim</th>\n",
       "      <th>evidence</th>\n",
       "    </tr>\n",
       "  </thead>\n",
       "  <tbody>\n",
       "    <tr>\n",
       "      <th>0</th>\n",
       "      <td>91198</td>\n",
       "      <td>NOT VERIFIABLE</td>\n",
       "      <td>NOT ENOUGH INFO</td>\n",
       "      <td>Colin Kaepernick became a starting quarterback...</td>\n",
       "      <td>[[[108548, None, None, None]]]</td>\n",
       "    </tr>\n",
       "    <tr>\n",
       "      <th>1</th>\n",
       "      <td>194462</td>\n",
       "      <td>NOT VERIFIABLE</td>\n",
       "      <td>NOT ENOUGH INFO</td>\n",
       "      <td>Tilda Swinton is a vegan.</td>\n",
       "      <td>[[[227768, None, None, None]]]</td>\n",
       "    </tr>\n",
       "    <tr>\n",
       "      <th>2</th>\n",
       "      <td>137334</td>\n",
       "      <td>VERIFIABLE</td>\n",
       "      <td>SUPPORTS</td>\n",
       "      <td>Fox 2000 Pictures released the film Soul Food.</td>\n",
       "      <td>[[[289914, 283015, Soul_Food_-LRB-film-RRB-, 0...</td>\n",
       "    </tr>\n",
       "    <tr>\n",
       "      <th>3</th>\n",
       "      <td>166626</td>\n",
       "      <td>NOT VERIFIABLE</td>\n",
       "      <td>NOT ENOUGH INFO</td>\n",
       "      <td>Anne Rice was born in New Jersey.</td>\n",
       "      <td>[[[191656, None, None, None], [191657, None, N...</td>\n",
       "    </tr>\n",
       "    <tr>\n",
       "      <th>4</th>\n",
       "      <td>111897</td>\n",
       "      <td>VERIFIABLE</td>\n",
       "      <td>REFUTES</td>\n",
       "      <td>Telemundo is a English-language television net...</td>\n",
       "      <td>[[[131371, 146144, Telemundo, 0]], [[131371, 1...</td>\n",
       "    </tr>\n",
       "    <tr>\n",
       "      <th>...</th>\n",
       "      <td>...</td>\n",
       "      <td>...</td>\n",
       "      <td>...</td>\n",
       "      <td>...</td>\n",
       "      <td>...</td>\n",
       "    </tr>\n",
       "    <tr>\n",
       "      <th>19993</th>\n",
       "      <td>8538</td>\n",
       "      <td>VERIFIABLE</td>\n",
       "      <td>REFUTES</td>\n",
       "      <td>Hermit crabs are arachnids.</td>\n",
       "      <td>[[[15450, 19262, Hermit_crab, 0], [15450, 1926...</td>\n",
       "    </tr>\n",
       "    <tr>\n",
       "      <th>19994</th>\n",
       "      <td>145641</td>\n",
       "      <td>VERIFIABLE</td>\n",
       "      <td>REFUTES</td>\n",
       "      <td>Michael Hutchence died on a boat.</td>\n",
       "      <td>[[[168967, 182663, Michael_Hutchence, 15]]]</td>\n",
       "    </tr>\n",
       "    <tr>\n",
       "      <th>19995</th>\n",
       "      <td>87517</td>\n",
       "      <td>VERIFIABLE</td>\n",
       "      <td>SUPPORTS</td>\n",
       "      <td>The Cyclades are located to the southeast of G...</td>\n",
       "      <td>[[[104709, 118125, Cyclades, 0]]]</td>\n",
       "    </tr>\n",
       "    <tr>\n",
       "      <th>19996</th>\n",
       "      <td>111816</td>\n",
       "      <td>NOT VERIFIABLE</td>\n",
       "      <td>NOT ENOUGH INFO</td>\n",
       "      <td>Theresa May worked the docks.</td>\n",
       "      <td>[[[131223, None, None, None]]]</td>\n",
       "    </tr>\n",
       "    <tr>\n",
       "      <th>19997</th>\n",
       "      <td>81957</td>\n",
       "      <td>VERIFIABLE</td>\n",
       "      <td>REFUTES</td>\n",
       "      <td>Trouble with the Curve is a television show.</td>\n",
       "      <td>[[[99015, 112132, Trouble_with_the_Curve, 0]],...</td>\n",
       "    </tr>\n",
       "  </tbody>\n",
       "</table>\n",
       "<p>19998 rows × 5 columns</p>\n",
       "</div>"
      ],
      "text/plain": [
       "           id      verifiable            label  \\\n",
       "0       91198  NOT VERIFIABLE  NOT ENOUGH INFO   \n",
       "1      194462  NOT VERIFIABLE  NOT ENOUGH INFO   \n",
       "2      137334      VERIFIABLE         SUPPORTS   \n",
       "3      166626  NOT VERIFIABLE  NOT ENOUGH INFO   \n",
       "4      111897      VERIFIABLE          REFUTES   \n",
       "...       ...             ...              ...   \n",
       "19993    8538      VERIFIABLE          REFUTES   \n",
       "19994  145641      VERIFIABLE          REFUTES   \n",
       "19995   87517      VERIFIABLE         SUPPORTS   \n",
       "19996  111816  NOT VERIFIABLE  NOT ENOUGH INFO   \n",
       "19997   81957      VERIFIABLE          REFUTES   \n",
       "\n",
       "                                                   claim  \\\n",
       "0      Colin Kaepernick became a starting quarterback...   \n",
       "1                              Tilda Swinton is a vegan.   \n",
       "2         Fox 2000 Pictures released the film Soul Food.   \n",
       "3                      Anne Rice was born in New Jersey.   \n",
       "4      Telemundo is a English-language television net...   \n",
       "...                                                  ...   \n",
       "19993                        Hermit crabs are arachnids.   \n",
       "19994                  Michael Hutchence died on a boat.   \n",
       "19995  The Cyclades are located to the southeast of G...   \n",
       "19996                      Theresa May worked the docks.   \n",
       "19997       Trouble with the Curve is a television show.   \n",
       "\n",
       "                                                evidence  \n",
       "0                         [[[108548, None, None, None]]]  \n",
       "1                         [[[227768, None, None, None]]]  \n",
       "2      [[[289914, 283015, Soul_Food_-LRB-film-RRB-, 0...  \n",
       "3      [[[191656, None, None, None], [191657, None, N...  \n",
       "4      [[[131371, 146144, Telemundo, 0]], [[131371, 1...  \n",
       "...                                                  ...  \n",
       "19993  [[[15450, 19262, Hermit_crab, 0], [15450, 1926...  \n",
       "19994        [[[168967, 182663, Michael_Hutchence, 15]]]  \n",
       "19995                  [[[104709, 118125, Cyclades, 0]]]  \n",
       "19996                     [[[131223, None, None, None]]]  \n",
       "19997  [[[99015, 112132, Trouble_with_the_Curve, 0]],...  \n",
       "\n",
       "[19998 rows x 5 columns]"
      ]
     },
     "execution_count": 50,
     "metadata": {},
     "output_type": "execute_result"
    }
   ],
   "source": [
    "df"
   ]
  },
  {
   "cell_type": "code",
   "execution_count": 29,
   "id": "ebca9afd",
   "metadata": {},
   "outputs": [],
   "source": [
    "q = df.claim.tolist()\n",
    "vect = CountVectorizer()\n",
    "vec = vect.fit_transform(q)"
   ]
  },
  {
   "cell_type": "code",
   "execution_count": 30,
   "id": "56cecb62",
   "metadata": {},
   "outputs": [
    {
     "data": {
      "text/plain": [
       "9668"
      ]
     },
     "execution_count": 30,
     "metadata": {},
     "output_type": "execute_result"
    }
   ],
   "source": [
    "len(vect.vocabulary_.keys())"
   ]
  },
  {
   "cell_type": "code",
   "execution_count": 31,
   "id": "b4026ca3",
   "metadata": {},
   "outputs": [],
   "source": [
    "def removeList(a):\n",
    "    return a[0]"
   ]
  },
  {
   "cell_type": "code",
   "execution_count": 32,
   "id": "5771bb05",
   "metadata": {},
   "outputs": [
    {
     "name": "stdout",
     "output_type": "stream",
     "text": [
      "[(1, 9682), (2, 1675), (3, 561), (4, 391), (5, 346), (6, 200), (7, 122), (8, 94), (9, 56), (10, 38), (11, 35), (12, 25), (13, 20), (14, 15), (20, 12), (17, 8), (16, 8), (21, 5), (15, 5), (23, 4), (19, 3), (18, 3), (27, 3), (25, 3), (24, 2), (44, 2), (26, 1), (38, 1), (32, 1), (74, 1), (39, 1), (22, 1), (53, 1), (29, 1), (41, 1), (45, 1), (73, 1), (33, 1), (71, 1), (116, 1)]\n"
     ]
    }
   ],
   "source": [
    "a = Counter()\n",
    "for row in df.iterrows():\n",
    "    if(row[1].to_list()[2] != \"NOT ENOUGH INFO\"):\n",
    "        b = len(row[1].to_list()[4])\n",
    "        a[b] += 1\n",
    "print(a.most_common())"
   ]
  },
  {
   "cell_type": "code",
   "execution_count": 33,
   "id": "a0fcdaa8",
   "metadata": {},
   "outputs": [],
   "source": [
    "l = list(zip(*(sorted(a.items()))))\n",
    "\n",
    "k, v = list(l[0]), list(l[1])"
   ]
  },
  {
   "cell_type": "code",
   "execution_count": 34,
   "id": "c0d3ab29",
   "metadata": {},
   "outputs": [
    {
     "data": {
      "image/png": "[encoded data removed]",
      "text/plain": [
       "<Figure size 640x480 with 1 Axes>"
      ]
     },
     "metadata": {},
     "output_type": "display_data"
    }
   ],
   "source": [
    "ax = plt.subplot()\n",
    "ax.set_ylabel(\"log(Frequency)\")\n",
    "ax.set_xlabel(\"Number of Evidences\")\n",
    "ax = plt.plot(k, np.log(v) + 1, \"-o\")\n",
    "plt.show()"
   ]
  },
  {
   "cell_type": "code",
   "execution_count": 35,
   "id": "b320cd9f",
   "metadata": {},
   "outputs": [
    {
     "name": "stdout",
     "output_type": "stream",
     "text": [
      "[6666, 6666, 6666]\n",
      "['NOT ENOUGH INFO', 'SUPPORTS', 'REFUTES']\n"
     ]
    }
   ],
   "source": [
    "s = df.label.value_counts()\n",
    "x, y = s.to_list(), s.index.to_list()\n",
    "print(x)\n",
    "print(y)\n",
    "y = ['SUPPORTS', 'NOT ENOUGH INFO', 'REFUTES']"
   ]
  },
  {
   "cell_type": "code",
   "execution_count": 36,
   "id": "e1354653",
   "metadata": {},
   "outputs": [
    {
     "data": {
      "image/png": "[encoded data removed]",
      "text/plain": [
       "<Figure size 640x480 with 1 Axes>"
      ]
     },
     "metadata": {},
     "output_type": "display_data"
    }
   ],
   "source": [
    "ax = plt.subplot()\n",
    "ax.set_ylabel(\"Frequency\")\n",
    "ax.set_xlabel(\"Classes\")\n",
    "ax = plt.bar(y, x, width=0.5)\n",
    "\n",
    "for rect in ax:\n",
    "    height = rect.get_height()\n",
    "    plt.text(rect.get_x() + rect.get_width() / 2.0, height, f'{height:.0f}', ha='center', va='bottom')\n",
    "\n",
    "plt.show()"
   ]
  },
  {
   "cell_type": "code",
   "execution_count": 37,
   "id": "bb5c4fa3",
   "metadata": {},
   "outputs": [
    {
     "data": {
      "text/plain": [
       "(6666, 5)"
      ]
     },
     "execution_count": 37,
     "metadata": {},
     "output_type": "execute_result"
    }
   ],
   "source": [
    "sup = df[df.label == \"SUPPORTS\"]\n",
    "ref = df[df.label == \"REFUTES\"]\n",
    "nei = df[df.label == \"NOT ENOUGH INFO\"]\n",
    "nei.shape"
   ]
  },
  {
   "cell_type": "code",
   "execution_count": 38,
   "id": "41e7395a",
   "metadata": {},
   "outputs": [],
   "source": [
    "data = []\n",
    "cs = Counter()\n",
    "csl = Counter()\n",
    "for row in sup.iterrows():\n",
    "    line = row[1].to_list()[3]\n",
    "    words = re.findall(r\"[\\w']+\", line)\n",
    "    words = set(list(map(lambda x: x.lower(), words)))\n",
    "    csl[len(words)] += 1\n",
    "    cs.update(Counter(words))"
   ]
  },
  {
   "cell_type": "code",
   "execution_count": 39,
   "id": "a8f38a2f",
   "metadata": {},
   "outputs": [
    {
     "name": "stdout",
     "output_type": "stream",
     "text": [
      "Counter({7: 1004, 8: 929, 6: 924, 5: 821, 9: 731, 10: 567, 11: 405, 4: 359, 12: 281, 13: 200, 14: 135, 3: 98, 15: 74, 16: 58, 17: 30, 18: 16, 19: 9, 20: 7, 2: 6, 21: 3, 23: 3, 26: 2, 25: 2, 31: 1, 22: 1})\n"
     ]
    }
   ],
   "source": [
    "s = cs[\"not\"]\n",
    "print(csl)"
   ]
  },
  {
   "cell_type": "code",
   "execution_count": 40,
   "id": "489ad5de",
   "metadata": {},
   "outputs": [],
   "source": [
    "cr = Counter()\n",
    "crl = Counter()\n",
    "for row in ref.iterrows():\n",
    "    line = row[1].to_list()[3]\n",
    "    words = re.findall(r\"[\\w']+\", line)\n",
    "    words = set(list(map(lambda x: x.lower(), words)))\n",
    "    crl[len(words)] += 1\n",
    "    cr.update(Counter(words))"
   ]
  },
  {
   "cell_type": "code",
   "execution_count": 41,
   "id": "a3a44f77",
   "metadata": {},
   "outputs": [
    {
     "name": "stdout",
     "output_type": "stream",
     "text": [
      "Counter({8: 1093, 7: 1028, 6: 1003, 9: 858, 10: 632, 5: 592, 11: 428, 12: 294, 4: 275, 13: 170, 14: 116, 15: 50, 16: 43, 3: 38, 17: 18, 18: 13, 19: 4, 20: 4, 24: 3, 21: 2, 26: 1, 23: 1})\n"
     ]
    }
   ],
   "source": [
    "r = cr[\"not\"]\n",
    "print(crl)"
   ]
  },
  {
   "cell_type": "code",
   "execution_count": 42,
   "id": "f50f614d",
   "metadata": {},
   "outputs": [],
   "source": [
    "cn = Counter()\n",
    "cnl = Counter()\n",
    "for row in nei.iterrows():\n",
    "    line = row[1].to_list()[3]\n",
    "    words = re.findall(r\"[\\w']+\", line)\n",
    "    words = set(list(map(lambda x: x.lower(), words)))\n",
    "    cnl[len(words)] += 1\n",
    "    cn.update(Counter(words))"
   ]
  },
  {
   "cell_type": "code",
   "execution_count": 43,
   "id": "2421ba18",
   "metadata": {},
   "outputs": [
    {
     "name": "stdout",
     "output_type": "stream",
     "text": [
      "Counter({7: 978, 6: 942, 8: 902, 5: 820, 9: 715, 10: 593, 11: 459, 12: 320, 4: 289, 13: 202, 14: 131, 15: 79, 16: 71, 3: 67, 17: 37, 19: 18, 18: 17, 21: 10, 20: 5, 22: 4, 24: 2, 26: 1, 25: 1, 23: 1, 27: 1, 2: 1})\n"
     ]
    }
   ],
   "source": [
    "n = cn[\"not\"]\n",
    "print(cnl)"
   ]
  },
  {
   "cell_type": "code",
   "execution_count": 44,
   "id": "b22c0d7a",
   "metadata": {},
   "outputs": [],
   "source": [
    "h = [s, n, r]"
   ]
  },
  {
   "cell_type": "code",
   "execution_count": 45,
   "id": "26e95dbc",
   "metadata": {},
   "outputs": [
    {
     "data": {
      "image/png": "[encoded data removed]",
      "text/plain": [
       "<Figure size 640x480 with 1 Axes>"
      ]
     },
     "metadata": {},
     "output_type": "display_data"
    }
   ],
   "source": [
    "plt.ylabel(\"Frequency of claims with the word 'not'\")\n",
    "ax = plt.bar(y, h, width=0.5)\n",
    "\n",
    "for rect in ax:\n",
    "    height = rect.get_height()\n",
    "    plt.text(rect.get_x() + rect.get_width() / 2.0, height, f'{height:.0f}', ha='center', va='bottom')\n",
    "\n",
    "plt.show()"
   ]
  },
  {
   "cell_type": "code",
   "execution_count": 46,
   "id": "b70b61a0",
   "metadata": {},
   "outputs": [
    {
     "name": "stdout",
     "output_type": "stream",
     "text": [
      "[(1, 4834), (2, 822), (3, 273), (5, 213), (4, 207), (6, 105), (7, 57), (8, 45), (9, 23), (11, 15), (10, 12), (12, 11), (14, 7), (20, 7), (13, 6), (23, 3), (17, 3), (18, 3), (16, 3), (44, 2), (27, 2), (25, 2), (38, 1), (32, 1), (74, 1), (39, 1), (21, 1), (53, 1), (15, 1), (73, 1), (33, 1), (71, 1), (116, 1)]\n"
     ]
    }
   ],
   "source": [
    "a = Counter()\n",
    "for row in sup.iterrows():\n",
    "    b = len(row[1].to_list()[4])\n",
    "    a[b] += 1\n",
    "print(a.most_common())"
   ]
  },
  {
   "cell_type": "code",
   "execution_count": 47,
   "id": "187ce6f5",
   "metadata": {},
   "outputs": [
    {
     "name": "stdout",
     "output_type": "stream",
     "text": [
      "[(1, 4848), (2, 853), (3, 288), (4, 184), (5, 133), (6, 95), (7, 65), (8, 49), (9, 33), (10, 26), (11, 20), (13, 14), (12, 14), (14, 8), (20, 5), (16, 5), (17, 5), (21, 4), (15, 4), (19, 3), (24, 2), (26, 1), (22, 1), (29, 1), (25, 1), (41, 1), (45, 1), (23, 1), (27, 1)]\n"
     ]
    }
   ],
   "source": [
    "a = Counter()\n",
    "for row in ref.iterrows():\n",
    "    b = len(row[1].to_list()[4])\n",
    "    a[b] += 1\n",
    "print(a.most_common())"
   ]
  },
  {
   "cell_type": "code",
   "execution_count": 48,
   "id": "0de9f153",
   "metadata": {},
   "outputs": [
    {
     "name": "stdout",
     "output_type": "stream",
     "text": [
      "[(1, 6666)]\n"
     ]
    }
   ],
   "source": [
    "a = Counter()\n",
    "for row in nei.iterrows():\n",
    "    b = len(row[1].to_list()[4])\n",
    "    a[b] += 1\n",
    "print(a.most_common())"
   ]
  },
  {
   "cell_type": "code",
   "execution_count": 49,
   "id": "eba81ad2",
   "metadata": {},
   "outputs": [
    {
     "name": "stdout",
     "output_type": "stream",
     "text": [
      "10081\n"
     ]
    }
   ],
   "source": [
    "j = Counter()\n",
    "j.update(cs)\n",
    "j.update(cr)\n",
    "j.update(cn)\n",
    "print(len(j.most_common()))"
   ]
  },
  {
   "cell_type": "code",
   "execution_count": null,
   "id": "7bc31c54",
   "metadata": {},
   "outputs": [],
   "source": []
  }
 ],
 "metadata": {
  "kernelspec": {
   "display_name": "Python 3 (ipykernel)",
   "language": "python",
   "name": "python3"
  },
  "language_info": {
   "codemirror_mode": {
    "name": "ipython",
    "version": 3
   },
   "file_extension": ".py",
   "mimetype": "text/x-python",
   "name": "python",
   "nbconvert_exporter": "python",
   "pygments_lexer": "ipython3",
   "version": "3.11.5"
  }
 },
 "nbformat": 4,
 "nbformat_minor": 5
}
