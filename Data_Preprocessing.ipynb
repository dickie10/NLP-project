{
 "cells": [
  {
   "cell_type": "markdown",
   "id": "6a0ef366",
   "metadata": {},
   "source": [
    "### Requirements: wiki-pages folder with Wikipedia data dump and train.jsonl file from the FEVER website"
   ]
  },
  {
   "cell_type": "code",
   "execution_count": null,
   "id": "8332d58c",
   "metadata": {},
   "outputs": [],
   "source": [
    "import numpy as np\n",
    "import pandas as pd\n",
    "import itertools\n",
    "import re"
   ]
  },
  {
   "cell_type": "code",
   "execution_count": null,
   "id": "48454efe",
   "metadata": {},
   "outputs": [],
   "source": [
    "df = pd.read_json(\"train.jsonl\", lines=True)\n",
    "df = df.drop([\"id\"], axis=\"columns\")"
   ]
  },
  {
   "cell_type": "code",
   "execution_count": null,
   "id": "88d87fca",
   "metadata": {},
   "outputs": [],
   "source": [
    "for i, row in df.iterrows():\n",
    "#     print(len(row.evidence))\n",
    "    \n",
    "    if(len(row.evidence[0]) != 1):\n",
    "        df.loc[i, \"skip\"] = True\n",
    "    else:\n",
    "        df.loc[i, \"skip\"] = False"
   ]
  },
  {
   "cell_type": "code",
   "execution_count": null,
   "id": "9f0e12a0",
   "metadata": {},
   "outputs": [],
   "source": [
    "for i, row in df.iterrows():\n",
    "    if(row.skip == True):\n",
    "        p = row.evidence[0]\n",
    "        df.at[i, \"evidence\"] = p\n",
    "    else:\n",
    "        p = []\n",
    "        for e in row.evidence:\n",
    "            p.append(e[0])\n",
    "        df.at[i, \"evidence\"] = p"
   ]
  },
  {
   "cell_type": "code",
   "execution_count": null,
   "id": "dab14aca",
   "metadata": {},
   "outputs": [],
   "source": [
    "def simple_evidence(evi):\n",
    "    p = []\n",
    "    for e in evi:\n",
    "        p.append(e[2:])\n",
    "    \n",
    "    return p\n",
    "\n",
    "\n",
    "df[\"evi\"] = df.evidence.apply(simple_evidence)\n",
    "df = df.drop([\"evidence\", \"skip\"], axis=\"columns\")"
   ]
  },
  {
   "cell_type": "code",
   "execution_count": null,
   "id": "09e4eb65",
   "metadata": {},
   "outputs": [],
   "source": [
    "evidence_set = set()\n",
    "evi_number_set = {}\n",
    "for i, row in df.iterrows():\n",
    "    if(row.label != \"NOT ENOUGH INFO\"):\n",
    "        for e in row.evi:\n",
    "            evidence_set.add(e[0])\n",
    "            if e[0] not in evi_number_set:\n",
    "                evi_number_set[f\"{e[0]}\"] = set([int(f\"{e[1]}\")])\n",
    "            else:\n",
    "                evi_number_set[f\"{e[0]}\"].add(int(f\"{e[1]}\"))"
   ]
  },
  {
   "cell_type": "code",
   "execution_count": null,
   "id": "70c2ab48",
   "metadata": {},
   "outputs": [],
   "source": [
    "len(evidence_set)"
   ]
  },
  {
   "cell_type": "code",
   "execution_count": null,
   "id": "8b231906",
   "metadata": {},
   "outputs": [],
   "source": [
    "out = df.to_json(orient='records', lines=True)\n",
    "\n",
    "file = \"simplified.jsonl\"\n",
    "\n",
    "with open(file, 'w') as f:\n",
    "    f.write(out)"
   ]
  },
  {
   "cell_type": "code",
   "execution_count": null,
   "id": "bc21f859",
   "metadata": {},
   "outputs": [],
   "source": [
    "df = pd.read_json(\"simplified.jsonl\", lines=True)"
   ]
  },
  {
   "cell_type": "code",
   "execution_count": null,
   "id": "b7d37d35",
   "metadata": {},
   "outputs": [],
   "source": [
    "df"
   ]
  },
  {
   "cell_type": "code",
   "execution_count": null,
   "id": "e3e12b3c",
   "metadata": {},
   "outputs": [],
   "source": [
    "def convert_to_sentences(line):\n",
    "    l = line.split(\"\\n\")[0:-1]\n",
    "    sentences = []\n",
    "    for i in l:\n",
    "        k = i.split(\"\\t\")\n",
    "        sent = re.sub(r'[^A-Za-z0-9 ]+', ' ', k[1: 2][0])\n",
    "        sent = \" \".join(sent.split())\n",
    "        sentences.append(sent)\n",
    "#         clear_output()\n",
    "    return sentences\n",
    "\n",
    "def match_start(data):\n",
    "    \n",
    "    start = [p[0] for p in data]\n",
    "    s = []\n",
    "    start_set = set(start)\n",
    "    s = [e for e in evidence_set if e[0] in start_set]\n",
    "    \n",
    "    return set(s)\n",
    "\n",
    "def remove_foreign_ids(line):\n",
    "    if re.sub(r'[^A-Za-z0-9 ]+', '', line) == \"\":\n",
    "        return \"\"\n",
    "    return line\n",
    "\n",
    "def remove_foreign_words(line):\n",
    "    return re.sub(r'[^A-Za-z0-9 ]+', '', line)"
   ]
  },
  {
   "cell_type": "code",
   "execution_count": null,
   "id": "b7f329c7",
   "metadata": {},
   "outputs": [],
   "source": []
  },
  {
   "cell_type": "code",
   "execution_count": null,
   "id": "60df0032",
   "metadata": {},
   "outputs": [],
   "source": [
    "for i in range(1, 110):\n",
    "    page = \"\"\n",
    "    if i < 10:\n",
    "        page = f\"wiki-00{i}\"\n",
    "    elif i < 100:\n",
    "        page = f\"wiki-0{i}\"\n",
    "    else:\n",
    "        page = f\"wiki-{i}\"\n",
    "    print(page)\n",
    "    data = pd.read_json(f\"wiki-pages/{page}.jsonl\", lines=True)\n",
    "    matching_ids = 0\n",
    "    if i==1:\n",
    "        matching_ids = match_start(data.id[1:])\n",
    "    else:\n",
    "        matching_ids = match_start(data.id)\n",
    "    \n",
    "    matching_data = data[data.id.isin(matching_ids)]\n",
    "#     print(matching_data.id)\n",
    "    data = data[~data.id.isin(matching_ids)]\n",
    "    \n",
    "    data[\"ids\"] = data.id.apply(remove_foreign_ids)\n",
    "    data = data[~(data.ids == \"\")]\n",
    "    data.drop([\"id\"], axis=\"columns\", inplace=True)\n",
    "    data = data.rename(columns = {\"ids\": \"id\"})\n",
    "    data = data.sample(n=110)\n",
    "    \n",
    "    data = pd.concat([matching_data, data], ignore_index=True)\n",
    "    data[\"sentences\"] = data.lines.apply(convert_to_sentences)\n",
    "    data[\"text1\"] = data.text.apply(remove_foreign_words)\n",
    "    data = data.drop([\"lines\", \"text\"], axis=\"columns\")\n",
    "    data.rename(columns = {\"text1\": \"text\"}, inplace=True)\n",
    "    \n",
    "    out1 = data.to_json(orient='records', lines=True)\n",
    "    file = \"simplified_wiki.jsonl\"\n",
    "#     print(data)\n",
    "#     break\n",
    "    with open(file, 'a') as f:\n",
    "        f.write(out1)"
   ]
  },
  {
   "cell_type": "code",
   "execution_count": null,
   "id": "c048aa03",
   "metadata": {},
   "outputs": [],
   "source": [
    "data = pd.read_json(\"simplified_wiki.jsonl\", lines=True)\n",
    "data.sort_values(\"id\", inplace=True)\n",
    "data.reset_index(drop=True, inplace=True)"
   ]
  },
  {
   "cell_type": "code",
   "execution_count": null,
   "id": "d2540b8e",
   "metadata": {
    "scrolled": true
   },
   "outputs": [],
   "source": [
    "data.text[0:3]"
   ]
  },
  {
   "cell_type": "code",
   "execution_count": null,
   "id": "b6e4d034",
   "metadata": {},
   "outputs": [],
   "source": [
    "data.sentences[0:3]"
   ]
  },
  {
   "cell_type": "code",
   "execution_count": null,
   "id": "bbe55f80",
   "metadata": {},
   "outputs": [],
   "source": [
    "s = set(data.id.unique())\n",
    "len(s)"
   ]
  },
  {
   "cell_type": "code",
   "execution_count": null,
   "id": "9175edc6",
   "metadata": {},
   "outputs": [],
   "source": [
    "common = s.intersection(evidence_set)\n",
    "len(common)"
   ]
  },
  {
   "cell_type": "code",
   "execution_count": null,
   "id": "aba98039",
   "metadata": {},
   "outputs": [],
   "source": [
    "unmatched_evidence = evidence_set - common\n",
    "available_evidence = evidence_set - unmatched_evidence\n",
    "len(available_evidence)"
   ]
  },
  {
   "cell_type": "code",
   "execution_count": null,
   "id": "01df89f0",
   "metadata": {},
   "outputs": [],
   "source": [
    "unmatched_evidence"
   ]
  },
  {
   "cell_type": "code",
   "execution_count": null,
   "id": "49d89f35",
   "metadata": {},
   "outputs": [],
   "source": [
    "def populate_evidences(evi):\n",
    "    s = []\n",
    "    p = data.id.unique()\n",
    "    for e in evi:\n",
    "        if e[0] in p:\n",
    "            row = data.loc[data.id == e[0]]\n",
    "            s.append([e[0], e[1], row.sentences.values[0][e[1]]])\n",
    "    return s"
   ]
  },
  {
   "cell_type": "code",
   "execution_count": null,
   "id": "dff6f72d",
   "metadata": {},
   "outputs": [],
   "source": [
    "df[\"evidences\"] = df.evi.apply(populate_evidences)"
   ]
  },
  {
   "cell_type": "code",
   "execution_count": null,
   "id": "57d8901f",
   "metadata": {},
   "outputs": [],
   "source": [
    "df.evidences"
   ]
  },
  {
   "cell_type": "code",
   "execution_count": null,
   "id": "acfe74b9",
   "metadata": {},
   "outputs": [],
   "source": [
    "df1 = df[(df['evidences'].str.len() == 0) & (df['label'] != \"NOT ENOUGH INFO\")]\n",
    "df1.label.unique()"
   ]
  },
  {
   "cell_type": "code",
   "execution_count": null,
   "id": "3daa14ba",
   "metadata": {},
   "outputs": [],
   "source": [
    "len(df1.label.values)"
   ]
  },
  {
   "cell_type": "code",
   "execution_count": null,
   "id": "d5de5f52",
   "metadata": {},
   "outputs": [],
   "source": [
    "populated = df[~((df['evidences'].str.len() == 0) & (df['label'] != \"NOT ENOUGH INFO\"))]"
   ]
  },
  {
   "cell_type": "code",
   "execution_count": null,
   "id": "637a5fa6",
   "metadata": {},
   "outputs": [],
   "source": [
    "populated = populated.drop([\"evi\", \"verifiable\"], axis=\"columns\", )\n",
    "populated.reset_index(drop=True, inplace=True)"
   ]
  },
  {
   "cell_type": "code",
   "execution_count": null,
   "id": "4fc1ce93",
   "metadata": {},
   "outputs": [],
   "source": [
    "populated"
   ]
  },
  {
   "cell_type": "code",
   "execution_count": null,
   "id": "b31cf679",
   "metadata": {},
   "outputs": [],
   "source": [
    "file = \"populated_samples.jsonl\"\n",
    "out = populated.to_json(orient='records', lines=True)\n",
    "with open(file, 'w') as f:\n",
    "    f.write(out)"
   ]
  },
  {
   "cell_type": "code",
   "execution_count": null,
   "id": "ee56c6ca",
   "metadata": {},
   "outputs": [],
   "source": [
    "## test\n",
    "populated = pd.read_json(\"populated_samples.jsonl\", lines=True)\n",
    "populated"
   ]
  },
  {
   "cell_type": "code",
   "execution_count": null,
   "id": "6cccdad9",
   "metadata": {},
   "outputs": [],
   "source": [
    "populated.evidences[0]"
   ]
  },
  {
   "cell_type": "code",
   "execution_count": null,
   "id": "39d55630",
   "metadata": {},
   "outputs": [],
   "source": []
  }
 ],
 "metadata": {
  "kernelspec": {
   "display_name": "Python 3 (ipykernel)",
   "language": "python",
   "name": "python3"
  },
  "language_info": {
   "codemirror_mode": {
    "name": "ipython",
    "version": 3
   },
   "file_extension": ".py",
   "mimetype": "text/x-python",
   "name": "python",
   "nbconvert_exporter": "python",
   "pygments_lexer": "ipython3",
   "version": "3.9.13"
  }
 },
 "nbformat": 4,
 "nbformat_minor": 5
}
