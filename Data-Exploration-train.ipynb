{
 "cells": [
  {
   "cell_type": "code",
   "execution_count": 2,
   "id": "e00c4cff",
   "metadata": {},
   "outputs": [],
   "source": [
    "import pandas as pd\n",
    "\n",
    "import numpy as np\n",
    "import re\n",
    "from collections import Counter\n",
    "from sklearn.feature_extraction.text import CountVectorizer"
   ]
  },
  {
   "cell_type": "code",
   "execution_count": 3,
   "id": "629cb499",
   "metadata": {},
   "outputs": [
    {
     "data": {
      "text/html": [
       "<div>\n",
       "<style scoped>\n",
       "    .dataframe tbody tr th:only-of-type {\n",
       "        vertical-align: middle;\n",
       "    }\n",
       "\n",
       "    .dataframe tbody tr th {\n",
       "        vertical-align: top;\n",
       "    }\n",
       "\n",
       "    .dataframe thead th {\n",
       "        text-align: right;\n",
       "    }\n",
       "</style>\n",
       "<table border=\"1\" class=\"dataframe\">\n",
       "  <thead>\n",
       "    <tr style=\"text-align: right;\">\n",
       "      <th></th>\n",
       "      <th>id</th>\n",
       "      <th>verifiable</th>\n",
       "      <th>label</th>\n",
       "      <th>claim</th>\n",
       "      <th>evidence</th>\n",
       "    </tr>\n",
       "  </thead>\n",
       "  <tbody>\n",
       "    <tr>\n",
       "      <th>0</th>\n",
       "      <td>75397</td>\n",
       "      <td>VERIFIABLE</td>\n",
       "      <td>SUPPORTS</td>\n",
       "      <td>Nikolaj Coster-Waldau worked with the Fox Broa...</td>\n",
       "      <td>[[[92206, 104971, Nikolaj_Coster-Waldau, 7], [...</td>\n",
       "    </tr>\n",
       "    <tr>\n",
       "      <th>1</th>\n",
       "      <td>150448</td>\n",
       "      <td>VERIFIABLE</td>\n",
       "      <td>SUPPORTS</td>\n",
       "      <td>Roman Atwood is a content creator.</td>\n",
       "      <td>[[[174271, 187498, Roman_Atwood, 1]], [[174271...</td>\n",
       "    </tr>\n",
       "    <tr>\n",
       "      <th>2</th>\n",
       "      <td>214861</td>\n",
       "      <td>VERIFIABLE</td>\n",
       "      <td>SUPPORTS</td>\n",
       "      <td>History of art includes architecture, dance, s...</td>\n",
       "      <td>[[[255136, 254645, History_of_art, 2]]]</td>\n",
       "    </tr>\n",
       "    <tr>\n",
       "      <th>3</th>\n",
       "      <td>156709</td>\n",
       "      <td>VERIFIABLE</td>\n",
       "      <td>REFUTES</td>\n",
       "      <td>Adrienne Bailon is an accountant.</td>\n",
       "      <td>[[[180804, 193183, Adrienne_Bailon, 0]]]</td>\n",
       "    </tr>\n",
       "    <tr>\n",
       "      <th>4</th>\n",
       "      <td>83235</td>\n",
       "      <td>NOT VERIFIABLE</td>\n",
       "      <td>NOT ENOUGH INFO</td>\n",
       "      <td>System of a Down briefly disbanded in limbo.</td>\n",
       "      <td>[[[100277, None, None, None]]]</td>\n",
       "    </tr>\n",
       "    <tr>\n",
       "      <th>...</th>\n",
       "      <td>...</td>\n",
       "      <td>...</td>\n",
       "      <td>...</td>\n",
       "      <td>...</td>\n",
       "      <td>...</td>\n",
       "    </tr>\n",
       "    <tr>\n",
       "      <th>145444</th>\n",
       "      <td>75062</td>\n",
       "      <td>VERIFIABLE</td>\n",
       "      <td>REFUTES</td>\n",
       "      <td>Led Zeppelin released an eponymous debut album...</td>\n",
       "      <td>[[[91851, 104659, Led_Zeppelin, 6], [91851, 10...</td>\n",
       "    </tr>\n",
       "    <tr>\n",
       "      <th>145445</th>\n",
       "      <td>149256</td>\n",
       "      <td>VERIFIABLE</td>\n",
       "      <td>SUPPORTS</td>\n",
       "      <td>Taal was romantic.</td>\n",
       "      <td>[[[292586, 285327, Taal_-LRB-film-RRB-, 0]], [...</td>\n",
       "    </tr>\n",
       "    <tr>\n",
       "      <th>145446</th>\n",
       "      <td>13287</td>\n",
       "      <td>VERIFIABLE</td>\n",
       "      <td>SUPPORTS</td>\n",
       "      <td>Her stars American actress Rooney Mara.</td>\n",
       "      <td>[[[28520, 34848, Her_-LRB-film-RRB-, 3], [2852...</td>\n",
       "    </tr>\n",
       "    <tr>\n",
       "      <th>145447</th>\n",
       "      <td>13114</td>\n",
       "      <td>VERIFIABLE</td>\n",
       "      <td>SUPPORTS</td>\n",
       "      <td>J. R. R. Tolkien created Gimli.</td>\n",
       "      <td>[[[28359, 34669, Gimli_-LRB-Middle-earth-RRB-,...</td>\n",
       "    </tr>\n",
       "    <tr>\n",
       "      <th>145448</th>\n",
       "      <td>152180</td>\n",
       "      <td>VERIFIABLE</td>\n",
       "      <td>SUPPORTS</td>\n",
       "      <td>Susan Sarandon is an award winner.</td>\n",
       "      <td>[[[176133, 189101, Susan_Sarandon, 1]], [[1761...</td>\n",
       "    </tr>\n",
       "  </tbody>\n",
       "</table>\n",
       "<p>145449 rows × 5 columns</p>\n",
       "</div>"
      ],
      "text/plain": [
       "            id      verifiable            label  \\\n",
       "0        75397      VERIFIABLE         SUPPORTS   \n",
       "1       150448      VERIFIABLE         SUPPORTS   \n",
       "2       214861      VERIFIABLE         SUPPORTS   \n",
       "3       156709      VERIFIABLE          REFUTES   \n",
       "4        83235  NOT VERIFIABLE  NOT ENOUGH INFO   \n",
       "...        ...             ...              ...   \n",
       "145444   75062      VERIFIABLE          REFUTES   \n",
       "145445  149256      VERIFIABLE         SUPPORTS   \n",
       "145446   13287      VERIFIABLE         SUPPORTS   \n",
       "145447   13114      VERIFIABLE         SUPPORTS   \n",
       "145448  152180      VERIFIABLE         SUPPORTS   \n",
       "\n",
       "                                                    claim  \\\n",
       "0       Nikolaj Coster-Waldau worked with the Fox Broa...   \n",
       "1                      Roman Atwood is a content creator.   \n",
       "2       History of art includes architecture, dance, s...   \n",
       "3                       Adrienne Bailon is an accountant.   \n",
       "4            System of a Down briefly disbanded in limbo.   \n",
       "...                                                   ...   \n",
       "145444  Led Zeppelin released an eponymous debut album...   \n",
       "145445                                 Taal was romantic.   \n",
       "145446            Her stars American actress Rooney Mara.   \n",
       "145447                    J. R. R. Tolkien created Gimli.   \n",
       "145448                 Susan Sarandon is an award winner.   \n",
       "\n",
       "                                                 evidence  \n",
       "0       [[[92206, 104971, Nikolaj_Coster-Waldau, 7], [...  \n",
       "1       [[[174271, 187498, Roman_Atwood, 1]], [[174271...  \n",
       "2                 [[[255136, 254645, History_of_art, 2]]]  \n",
       "3                [[[180804, 193183, Adrienne_Bailon, 0]]]  \n",
       "4                          [[[100277, None, None, None]]]  \n",
       "...                                                   ...  \n",
       "145444  [[[91851, 104659, Led_Zeppelin, 6], [91851, 10...  \n",
       "145445  [[[292586, 285327, Taal_-LRB-film-RRB-, 0]], [...  \n",
       "145446  [[[28520, 34848, Her_-LRB-film-RRB-, 3], [2852...  \n",
       "145447  [[[28359, 34669, Gimli_-LRB-Middle-earth-RRB-,...  \n",
       "145448  [[[176133, 189101, Susan_Sarandon, 1]], [[1761...  \n",
       "\n",
       "[145449 rows x 5 columns]"
      ]
     },
     "execution_count": 3,
     "metadata": {},
     "output_type": "execute_result"
    }
   ],
   "source": [
    "df = pd.read_json(\"train.jsonl\", lines=True)\n",
    "df"
   ]
  },
  {
   "cell_type": "code",
   "execution_count": 4,
   "id": "eb140f14",
   "metadata": {},
   "outputs": [
    {
     "data": {
      "text/plain": [
       "[[[92206, 104971, 'Nikolaj_Coster-Waldau', 7],\n",
       "  [92206, 104971, 'Fox_Broadcasting_Company', 0]]]"
      ]
     },
     "execution_count": 4,
     "metadata": {},
     "output_type": "execute_result"
    }
   ],
   "source": [
    "df.evidence[0]"
   ]
  },
  {
   "cell_type": "code",
   "execution_count": 217,
   "id": "f4bd67d1",
   "metadata": {},
   "outputs": [],
   "source": [
    "q = df.claim.tolist()\n",
    "vect = CountVectorizer()\n",
    "vec = vect.fit_transform(q)"
   ]
  },
  {
   "cell_type": "code",
   "execution_count": 218,
   "id": "6a8d9887",
   "metadata": {},
   "outputs": [
    {
     "data": {
      "text/plain": [
       "21483"
      ]
     },
     "execution_count": 218,
     "metadata": {},
     "output_type": "execute_result"
    }
   ],
   "source": [
    "len(vect.vocabulary_.keys())"
   ]
  },
  {
   "cell_type": "code",
   "execution_count": 219,
   "id": "91ac0005",
   "metadata": {},
   "outputs": [],
   "source": [
    "def removeList(a):\n",
    "    return a[0]"
   ]
  },
  {
   "cell_type": "code",
   "execution_count": 220,
   "id": "6baba5b0",
   "metadata": {},
   "outputs": [
    {
     "name": "stdout",
     "output_type": "stream",
     "text": [
      "[(1, 78838), (2, 13268), (3, 4456), (5, 3229), (4, 3120), (6, 1964), (7, 1086), (8, 741), (9, 543), (10, 451), (11, 332), (12, 289), (13, 233), (14, 182), (16, 111), (15, 110), (18, 97), (17, 94), (19, 77), (21, 70), (20, 69), (22, 46), (24, 39), (26, 38), (25, 34), (23, 28), (29, 24), (27, 23), (30, 18), (31, 15), (36, 12), (33, 12), (34, 11), (28, 11), (32, 10), (44, 9), (39, 9), (37, 8), (52, 8), (42, 7), (35, 7), (38, 6), (43, 5), (45, 5), (50, 4), (40, 4), (53, 4), (47, 4), (62, 3), (56, 3), (54, 3), (48, 3), (49, 3), (46, 2), (59, 2), (51, 2), (60, 2), (66, 2), (65, 2), (78, 2), (41, 2), (138, 1), (61, 1), (71, 1), (58, 1), (140, 1), (122, 1), (63, 1), (102, 1), (156, 1), (130, 1), (55, 1), (84, 1), (85, 1), (67, 1), (96, 1), (75, 1), (117, 1), (251, 1)]\n"
     ]
    }
   ],
   "source": [
    "a = Counter()\n",
    "for row in df.iterrows():\n",
    "    if(row[1].to_list()[2] != \"NOT ENOUGH INFO\"):\n",
    "        b = len(row[1].to_list()[4])\n",
    "        a[b] += 1\n",
    "print(a.most_common())"
   ]
  },
  {
   "cell_type": "code",
   "execution_count": 221,
   "id": "82998dbe",
   "metadata": {},
   "outputs": [],
   "source": [
    "l = list(zip(*(sorted(a.items()))))\n",
    "\n",
    "k, v = list(l[0]), list(l[1])"
   ]
  },
  {
   "cell_type": "code",
   "execution_count": 244,
   "id": "8763a8b1",
   "metadata": {},
   "outputs": [
    {
     "data": {
      "image/png": "[encoded data removed]",
      "text/plain": [
       "<Figure size 640x480 with 1 Axes>"
      ]
     },
     "metadata": {},
     "output_type": "display_data"
    }
   ],
   "source": [
    "ax = plt.subplot()\n",
    "ax.set_ylabel(\"log(Frequency)\")\n",
    "ax.set_xlabel(\"Number of Evidences\")\n",
    "ax = plt.plot(k, np.log(v) + 1, \"-o\")\n",
    "plt.show()"
   ]
  },
  {
   "cell_type": "code",
   "execution_count": 223,
   "id": "d25f491c",
   "metadata": {},
   "outputs": [
    {
     "name": "stdout",
     "output_type": "stream",
     "text": [
      "[80035, 35639, 29775]\n",
      "['SUPPORTS', 'NOT ENOUGH INFO', 'REFUTES']\n"
     ]
    }
   ],
   "source": [
    "s = df.label.value_counts()\n",
    "x, y = s.to_list(), s.index.to_list()\n",
    "print(x)\n",
    "print(y)"
   ]
  },
  {
   "cell_type": "code",
   "execution_count": 224,
   "id": "ed0a9a2f",
   "metadata": {},
   "outputs": [
    {
     "data": {
      "image/png": "[encoded data removed]",
      "text/plain": [
       "<Figure size 640x480 with 1 Axes>"
      ]
     },
     "metadata": {},
     "output_type": "display_data"
    }
   ],
   "source": [
    "ax = plt.subplot()\n",
    "ax.set_ylabel(\"Frequency\")\n",
    "ax.set_xlabel(\"Classes\")\n",
    "ax = plt.bar(y, x, width=0.5)\n",
    "\n",
    "for rect in ax:\n",
    "    height = rect.get_height()\n",
    "    plt.text(rect.get_x() + rect.get_width() / 2.0, height, f'{height:.0f}', ha='center', va='bottom')\n",
    "\n",
    "plt.show()"
   ]
  },
  {
   "cell_type": "code",
   "execution_count": 225,
   "id": "14f83f75",
   "metadata": {},
   "outputs": [
    {
     "data": {
      "text/plain": [
       "(35639, 5)"
      ]
     },
     "execution_count": 225,
     "metadata": {},
     "output_type": "execute_result"
    }
   ],
   "source": [
    "sup = df[df.label == \"SUPPORTS\"]\n",
    "ref = df[df.label == \"REFUTES\"]\n",
    "nei = df[df.label == \"NOT ENOUGH INFO\"]\n",
    "nei.shape"
   ]
  },
  {
   "cell_type": "code",
   "execution_count": 226,
   "id": "9c56b0f8",
   "metadata": {},
   "outputs": [],
   "source": [
    "data = []\n",
    "cs = Counter()\n",
    "csl = Counter()\n",
    "for row in sup.iterrows():\n",
    "    line = row[1].to_list()[3]\n",
    "    words = re.findall(r\"[\\w']+\", line)\n",
    "    words = set(list(map(lambda x: x.lower(), words)))\n",
    "    csl[len(words)] += 1\n",
    "    cs.update(Counter(words))"
   ]
  },
  {
   "cell_type": "code",
   "execution_count": 227,
   "id": "0ee4fdc0",
   "metadata": {},
   "outputs": [
    {
     "name": "stdout",
     "output_type": "stream",
     "text": [
      "Counter({6: 12632, 7: 12356, 8: 11075, 5: 10512, 9: 8576, 10: 6409, 11: 4521, 4: 4128, 12: 3115, 13: 1983, 14: 1265, 3: 1171, 15: 781, 16: 473, 17: 287, 18: 212, 19: 107, 20: 96, 21: 71, 22: 32, 23: 31, 2: 29, 24: 28, 32: 20, 25: 16, 28: 16, 55: 14, 26: 13, 27: 12, 31: 12, 51: 11, 40: 10, 29: 8, 47: 4, 43: 4, 33: 3, 30: 1, 36: 1})\n"
     ]
    }
   ],
   "source": [
    "s = cs[\"not\"]\n",
    "print(csl)"
   ]
  },
  {
   "cell_type": "code",
   "execution_count": 228,
   "id": "0b0fb81b",
   "metadata": {},
   "outputs": [],
   "source": [
    "cr = Counter()\n",
    "crl = Counter()\n",
    "for row in ref.iterrows():\n",
    "    line = row[1].to_list()[3]\n",
    "    words = re.findall(r\"[\\w']+\", line)\n",
    "    words = set(list(map(lambda x: x.lower(), words)))\n",
    "    crl[len(words)] += 1\n",
    "    cr.update(Counter(words))"
   ]
  },
  {
   "cell_type": "code",
   "execution_count": 229,
   "id": "f5c4c6df",
   "metadata": {},
   "outputs": [
    {
     "name": "stdout",
     "output_type": "stream",
     "text": [
      "Counter({6: 4865, 7: 4825, 8: 4780, 9: 3674, 5: 2972, 10: 2509, 11: 1870, 12: 1213, 4: 1186, 13: 732, 14: 439, 15: 258, 16: 151, 3: 134, 17: 83, 18: 29, 19: 20, 20: 14, 22: 8, 21: 5, 24: 2, 23: 2, 25: 2, 27: 1, 32: 1})\n"
     ]
    }
   ],
   "source": [
    "r = cr[\"not\"]\n",
    "print(crl)"
   ]
  },
  {
   "cell_type": "code",
   "execution_count": 230,
   "id": "e7124144",
   "metadata": {},
   "outputs": [],
   "source": [
    "cn = Counter()\n",
    "cnl = Counter()\n",
    "for row in nei.iterrows():\n",
    "    line = row[1].to_list()[3]\n",
    "    words = re.findall(r\"[\\w']+\", line)\n",
    "    words = set(list(map(lambda x: x.lower(), words)))\n",
    "    cnl[len(words)] += 1\n",
    "    cn.update(Counter(words))"
   ]
  },
  {
   "cell_type": "code",
   "execution_count": 237,
   "id": "26490244",
   "metadata": {},
   "outputs": [
    {
     "name": "stdout",
     "output_type": "stream",
     "text": [
      "Counter({6: 5743, 7: 5532, 5: 4971, 8: 4838, 9: 3869, 10: 2914, 11: 2109, 4: 1597, 12: 1413, 13: 890, 14: 578, 15: 352, 3: 257, 16: 225, 17: 114, 18: 89, 19: 44, 20: 42, 21: 19, 22: 9, 23: 8, 24: 8, 25: 5, 26: 3, 2: 2, 29: 2, 28: 2, 27: 1, 33: 1, 31: 1, 32: 1})\n"
     ]
    }
   ],
   "source": [
    "n = cn[\"not\"]\n",
    "print(cnl)"
   ]
  },
  {
   "cell_type": "code",
   "execution_count": 238,
   "id": "adb0bb6d",
   "metadata": {},
   "outputs": [],
   "source": [
    "h = [s, n, r]"
   ]
  },
  {
   "cell_type": "code",
   "execution_count": 239,
   "id": "466db2bc",
   "metadata": {},
   "outputs": [
    {
     "data": {
      "image/png": "[encoded data removed]",
      "text/plain": [
       "<Figure size 640x480 with 1 Axes>"
      ]
     },
     "metadata": {},
     "output_type": "display_data"
    }
   ],
   "source": [
    "plt.ylabel(\"Frequency of claims with the word 'not'\")\n",
    "ax = plt.bar(y, h, width=0.5)\n",
    "\n",
    "for rect in ax:\n",
    "    height = rect.get_height()\n",
    "    plt.text(rect.get_x() + rect.get_width() / 2.0, height, f'{height:.0f}', ha='center', va='bottom')\n",
    "\n",
    "plt.show()"
   ]
  },
  {
   "cell_type": "code",
   "execution_count": 234,
   "id": "184b43a9",
   "metadata": {},
   "outputs": [
    {
     "name": "stdout",
     "output_type": "stream",
     "text": [
      "[(1, 57417), (2, 9698), (3, 3160), (5, 2481), (4, 2266), (6, 1490), (7, 785), (8, 544), (9, 390), (10, 322), (11, 242), (12, 204), (13, 154), (14, 121), (16, 76), (15, 74), (18, 67), (17, 67), (19, 55), (20, 44), (21, 43), (24, 33), (22, 31), (26, 30), (25, 25), (27, 18), (29, 17), (23, 17), (30, 16), (31, 11), (32, 10), (33, 10), (34, 9), (28, 9), (36, 8), (42, 7), (44, 6), (37, 6), (38, 6), (35, 6), (39, 5), (52, 4), (40, 4), (45, 4), (50, 3), (43, 3), (48, 3), (47, 3), (62, 2), (51, 2), (53, 2), (49, 2), (66, 2), (138, 1), (59, 1), (58, 1), (140, 1), (122, 1), (63, 1), (102, 1), (156, 1), (65, 1), (130, 1), (54, 1), (84, 1), (85, 1), (78, 1), (46, 1), (67, 1), (96, 1), (60, 1), (117, 1), (251, 1), (41, 1)]\n"
     ]
    }
   ],
   "source": [
    "a = Counter()\n",
    "for row in sup.iterrows():\n",
    "    b = len(row[1].to_list()[4])\n",
    "    a[b] += 1\n",
    "print(a.most_common())"
   ]
  },
  {
   "cell_type": "code",
   "execution_count": 235,
   "id": "8be5da35",
   "metadata": {},
   "outputs": [
    {
     "name": "stdout",
     "output_type": "stream",
     "text": [
      "[(1, 21421), (2, 3570), (3, 1296), (4, 854), (5, 748), (6, 474), (7, 301), (8, 197), (9, 153), (10, 129), (11, 90), (12, 85), (13, 79), (14, 61), (15, 36), (16, 35), (18, 30), (21, 27), (17, 27), (20, 25), (19, 22), (22, 15), (23, 11), (25, 9), (26, 8), (29, 7), (24, 6), (27, 5), (52, 4), (31, 4), (36, 4), (39, 4), (56, 3), (44, 3), (43, 2), (54, 2), (30, 2), (33, 2), (37, 2), (53, 2), (28, 2), (34, 2), (46, 1), (61, 1), (71, 1), (60, 1), (65, 1), (55, 1), (78, 1), (49, 1), (59, 1), (41, 1), (62, 1), (35, 1), (45, 1), (47, 1), (75, 1), (50, 1)]\n"
     ]
    }
   ],
   "source": [
    "a = Counter()\n",
    "for row in ref.iterrows():\n",
    "    b = len(row[1].to_list()[4])\n",
    "    a[b] += 1\n",
    "print(a.most_common())"
   ]
  },
  {
   "cell_type": "code",
   "execution_count": 236,
   "id": "13ba6459",
   "metadata": {},
   "outputs": [
    {
     "name": "stdout",
     "output_type": "stream",
     "text": [
      "[(1, 35639)]\n"
     ]
    }
   ],
   "source": [
    "a = Counter()\n",
    "for row in nei.iterrows():\n",
    "    b = len(row[1].to_list()[4])\n",
    "    a[b] += 1\n",
    "print(a.most_common())"
   ]
  },
  {
   "cell_type": "code",
   "execution_count": 241,
   "id": "ab518f67",
   "metadata": {},
   "outputs": [
    {
     "name": "stdout",
     "output_type": "stream",
     "text": [
      "22987\n"
     ]
    }
   ],
   "source": [
    "j = Counter()\n",
    "j.update(cs)\n",
    "j.update(cr)\n",
    "j.update(cn)\n",
    "print(len(j.most_common()))"
   ]
  },
  {
   "cell_type": "code",
   "execution_count": null,
   "id": "cf38d265",
   "metadata": {},
   "outputs": [],
   "source": []
  }
 ],
 "metadata": {
  "kernelspec": {
   "display_name": "Python 3 (ipykernel)",
   "language": "python",
   "name": "python3"
  },
  "language_info": {
   "codemirror_mode": {
    "name": "ipython",
    "version": 3
   },
   "file_extension": ".py",
   "mimetype": "text/x-python",
   "name": "python",
   "nbconvert_exporter": "python",
   "pygments_lexer": "ipython3",
   "version": "3.11.5"
  }
 },
 "nbformat": 4,
 "nbformat_minor": 5
}
